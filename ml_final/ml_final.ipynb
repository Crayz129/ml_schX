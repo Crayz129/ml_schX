{
 "cells": [
  {
   "cell_type": "code",
   "execution_count": 30,
   "metadata": {},
   "outputs": [],
   "source": [
    "import re\n",
    "import pandas as pd\n",
    "import numpy as np\n",
    "from keras.preprocessing.text import Tokenizer\n",
    "from keras.utils import pad_sequences\n",
    "from keras.models import Sequential\n",
    "from keras.layers import Embedding, Bidirectional, LSTM, Dense\n",
    "from nltk.corpus import stopwords\n",
    "\n",
    "epochs = 10\n",
    "batch_size = 32\n",
    "embedding_dim = 50\n",
    "prediction_file = 'prediction.csv'"
   ]
  },
  {
   "cell_type": "code",
   "execution_count": 18,
   "metadata": {},
   "outputs": [
    {
     "data": {
      "text/html": [
       "<div>\n",
       "<style scoped>\n",
       "    .dataframe tbody tr th:only-of-type {\n",
       "        vertical-align: middle;\n",
       "    }\n",
       "\n",
       "    .dataframe tbody tr th {\n",
       "        vertical-align: top;\n",
       "    }\n",
       "\n",
       "    .dataframe thead th {\n",
       "        text-align: right;\n",
       "    }\n",
       "</style>\n",
       "<table border=\"1\" class=\"dataframe\">\n",
       "  <thead>\n",
       "    <tr style=\"text-align: right;\">\n",
       "      <th></th>\n",
       "      <th>text</th>\n",
       "    </tr>\n",
       "  </thead>\n",
       "  <tbody>\n",
       "    <tr>\n",
       "      <th>0</th>\n",
       "      <td>Just happened a terrible car crash</td>\n",
       "    </tr>\n",
       "    <tr>\n",
       "      <th>1</th>\n",
       "      <td>Heard about #earthquake is different cities, s...</td>\n",
       "    </tr>\n",
       "    <tr>\n",
       "      <th>2</th>\n",
       "      <td>there is a forest fire at spot pond, geese are...</td>\n",
       "    </tr>\n",
       "    <tr>\n",
       "      <th>3</th>\n",
       "      <td>Apocalypse lighting. #Spokane #wildfires</td>\n",
       "    </tr>\n",
       "    <tr>\n",
       "      <th>4</th>\n",
       "      <td>Typhoon Soudelor kills 28 in China and Taiwan</td>\n",
       "    </tr>\n",
       "    <tr>\n",
       "      <th>...</th>\n",
       "      <td>...</td>\n",
       "    </tr>\n",
       "    <tr>\n",
       "      <th>3258</th>\n",
       "      <td>EARTHQUAKE SAFETY LOS ANGELES ÛÒ SAFETY FASTE...</td>\n",
       "    </tr>\n",
       "    <tr>\n",
       "      <th>3259</th>\n",
       "      <td>Storm in RI worse than last hurricane. My city...</td>\n",
       "    </tr>\n",
       "    <tr>\n",
       "      <th>3260</th>\n",
       "      <td>Green Line derailment in Chicago http://t.co/U...</td>\n",
       "    </tr>\n",
       "    <tr>\n",
       "      <th>3261</th>\n",
       "      <td>MEG issues Hazardous Weather Outlook (HWO) htt...</td>\n",
       "    </tr>\n",
       "    <tr>\n",
       "      <th>3262</th>\n",
       "      <td>#CityofCalgary has activated its Municipal Eme...</td>\n",
       "    </tr>\n",
       "  </tbody>\n",
       "</table>\n",
       "<p>3263 rows × 1 columns</p>\n",
       "</div>"
      ],
      "text/plain": [
       "                                                   text\n",
       "0                    Just happened a terrible car crash\n",
       "1     Heard about #earthquake is different cities, s...\n",
       "2     there is a forest fire at spot pond, geese are...\n",
       "3              Apocalypse lighting. #Spokane #wildfires\n",
       "4         Typhoon Soudelor kills 28 in China and Taiwan\n",
       "...                                                 ...\n",
       "3258  EARTHQUAKE SAFETY LOS ANGELES ÛÒ SAFETY FASTE...\n",
       "3259  Storm in RI worse than last hurricane. My city...\n",
       "3260  Green Line derailment in Chicago http://t.co/U...\n",
       "3261  MEG issues Hazardous Weather Outlook (HWO) htt...\n",
       "3262  #CityofCalgary has activated its Municipal Eme...\n",
       "\n",
       "[3263 rows x 1 columns]"
      ]
     },
     "execution_count": 18,
     "metadata": {},
     "output_type": "execute_result"
    }
   ],
   "source": [
    "# Загрузка данных\n",
    "train_data = pd.read_csv('train.csv')\n",
    "test_data = pd.read_csv('test.csv')\n",
    "train_data.drop(['id', 'keyword', 'location'], axis= 1)\n",
    "test_data.drop(['id', 'keyword', 'location'], axis= 1)"
   ]
  },
  {
   "cell_type": "code",
   "execution_count": 19,
   "metadata": {},
   "outputs": [],
   "source": [
    "# Предобработка данных\n",
    "def clean_text(text):\n",
    "    text = re.sub(r'http\\S+', '', text)  # Удаление ссылок\n",
    "    text = re.sub(r'@[A-Za-z0-9]+', '', text)  # Удаление упоминаний\n",
    "    text = re.sub(r'[^A-Za-z0-9]+', ' ', text)  # Удаление специальных символов\n",
    "    return text\n",
    "\n",
    "train_data['text'] = train_data['text'].apply(lambda x: clean_text(x))\n",
    "test_data['text'] = test_data['text'].apply(lambda x: clean_text(x))"
   ]
  },
  {
   "cell_type": "code",
   "execution_count": 20,
   "metadata": {},
   "outputs": [],
   "source": [
    "# Удаление стоп-слов\n",
    "stop_words = set(stopwords.words('english'))\n",
    "for i, row in train_data.iterrows():\n",
    "    text = row['text']\n",
    "    text = ' '.join([word for word in text.split() if word not in stop_words])\n",
    "    train_data.at[i, 'text'] = text\n",
    "\n",
    "for i, row in test_data.iterrows():\n",
    "    text = row['text']\n",
    "    text = ' '.join([word for word in text.split() if word not in stop_words])\n",
    "    test_data.at[i, 'text'] = text"
   ]
  },
  {
   "cell_type": "code",
   "execution_count": 21,
   "metadata": {},
   "outputs": [],
   "source": [
    "# Создание токенизатора\n",
    "tokenizer = Tokenizer()\n",
    "tokenizer.fit_on_texts(train_data['text'])\n",
    "vocab_size = len(tokenizer.word_index) + 1"
   ]
  },
  {
   "cell_type": "code",
   "execution_count": 22,
   "metadata": {},
   "outputs": [],
   "source": [
    "# Преобразование текста в последовательности чисел\n",
    "train_sequences = tokenizer.texts_to_sequences(train_data['text'])\n",
    "test_sequences = tokenizer.texts_to_sequences(test_data['text'])\n",
    "target = train_data['target'].values\n",
    "test_ids = test_data['id'].values"
   ]
  },
  {
   "cell_type": "code",
   "execution_count": 23,
   "metadata": {},
   "outputs": [],
   "source": [
    "# Выравнивание полседовательностей к одной длине\n",
    "max_length = 50  # Максимальная длина последовательности\n",
    "train_data = pad_sequences(train_sequences, maxlen=max_length)\n",
    "test_data = pad_sequences(test_sequences, maxlen=max_length)"
   ]
  },
  {
   "cell_type": "code",
   "execution_count": 26,
   "metadata": {},
   "outputs": [],
   "source": [
    "# Создание модели\n",
    "model = Sequential() \n",
    "model.add(Embedding(vocab_size, embedding_dim, input_length=max_length))\n",
    "model.add(Bidirectional(LSTM(64, return_sequences=True)))\n",
    "model.add(Bidirectional(LSTM(64)))\n",
    "model.add(Dense(1, activation='sigmoid'))\n",
    "\n",
    "\n",
    "model.compile(loss='binary_crossentropy', optimizer='adam', metrics=['accuracy'])"
   ]
  },
  {
   "cell_type": "code",
   "execution_count": 27,
   "metadata": {},
   "outputs": [
    {
     "name": "stdout",
     "output_type": "stream",
     "text": [
      "Epoch 1/10\n",
      "238/238 [==============================] - 18s 45ms/step - loss: 0.5142 - accuracy: 0.7429\n",
      "Epoch 2/10\n",
      "238/238 [==============================] - 11s 46ms/step - loss: 0.2828 - accuracy: 0.8927\n",
      "Epoch 3/10\n",
      "238/238 [==============================] - 11s 44ms/step - loss: 0.1785 - accuracy: 0.9380\n",
      "Epoch 4/10\n",
      "238/238 [==============================] - 11s 46ms/step - loss: 0.1325 - accuracy: 0.9573\n",
      "Epoch 5/10\n",
      "238/238 [==============================] - 10s 41ms/step - loss: 0.1055 - accuracy: 0.9673\n",
      "Epoch 6/10\n",
      "238/238 [==============================] - 10s 43ms/step - loss: 0.0865 - accuracy: 0.9704\n",
      "Epoch 7/10\n",
      "238/238 [==============================] - 10s 41ms/step - loss: 0.0554 - accuracy: 0.9761\n",
      "Epoch 8/10\n",
      "238/238 [==============================] - 10s 42ms/step - loss: 0.0514 - accuracy: 0.9781\n",
      "Epoch 9/10\n",
      "238/238 [==============================] - 9s 39ms/step - loss: 0.0461 - accuracy: 0.9785\n",
      "Epoch 10/10\n",
      "238/238 [==============================] - 9s 40ms/step - loss: 0.0433 - accuracy: 0.9782\n"
     ]
    },
    {
     "data": {
      "text/plain": [
       "<keras.callbacks.History at 0x152789a2710>"
      ]
     },
     "execution_count": 27,
     "metadata": {},
     "output_type": "execute_result"
    }
   ],
   "source": [
    "# Обучение модели\n",
    "model.fit(train_data, target, batch_size=batch_size, epochs=epochs)"
   ]
  },
  {
   "cell_type": "code",
   "execution_count": 28,
   "metadata": {},
   "outputs": [
    {
     "name": "stdout",
     "output_type": "stream",
     "text": [
      "Model: \"sequential_5\"\n",
      "_________________________________________________________________\n",
      " Layer (type)                Output Shape              Param #   \n",
      "=================================================================\n",
      " embedding_5 (Embedding)     (None, 50, 50)            746450    \n",
      "                                                                 \n",
      " bidirectional_12 (Bidirecti  (None, 50, 128)          58880     \n",
      " onal)                                                           \n",
      "                                                                 \n",
      " bidirectional_13 (Bidirecti  (None, 128)              98816     \n",
      " onal)                                                           \n",
      "                                                                 \n",
      " dense_5 (Dense)             (None, 1)                 129       \n",
      "                                                                 \n",
      "=================================================================\n",
      "Total params: 904,275\n",
      "Trainable params: 904,275\n",
      "Non-trainable params: 0\n",
      "_________________________________________________________________\n"
     ]
    }
   ],
   "source": [
    "model.summary()"
   ]
  },
  {
   "cell_type": "code",
   "execution_count": 31,
   "metadata": {},
   "outputs": [
    {
     "name": "stdout",
     "output_type": "stream",
     "text": [
      "102/102 [==============================] - 2s 17ms/step\n"
     ]
    }
   ],
   "source": [
    "# Предсказание на тестовых данных и сохранение результатов\n",
    "predictions = model.predict(test_data)\n",
    "submission = pd.DataFrame()\n",
    "submission['id'] = test_ids\n",
    "submission['target'] = predictions.round().astype(int).reshape(3263)\n",
    "submission.to_csv(prediction_file, index=False)"
   ]
  }
 ],
 "metadata": {
  "kernelspec": {
   "display_name": "Python 3",
   "language": "python",
   "name": "python3"
  },
  "language_info": {
   "codemirror_mode": {
    "name": "ipython",
    "version": 3
   },
   "file_extension": ".py",
   "mimetype": "text/x-python",
   "name": "python",
   "nbconvert_exporter": "python",
   "pygments_lexer": "ipython3",
   "version": "3.11.1"
  },
  "orig_nbformat": 4
 },
 "nbformat": 4,
 "nbformat_minor": 2
}
