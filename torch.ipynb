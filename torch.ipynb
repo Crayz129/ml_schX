{
 "cells": [
  {
   "cell_type": "code",
   "execution_count": 1,
   "id": "2bcbf497-352a-482e-ac9d-e701c17f16c9",
   "metadata": {},
   "outputs": [],
   "source": [
    "import torch\n",
    "import torch.nn as nn"
   ]
  },
  {
   "cell_type": "code",
   "execution_count": 2,
   "id": "73b21fc9-ed45-40a2-8b65-379b394a119e",
   "metadata": {},
   "outputs": [],
   "source": [
    "a = torch.IntTensor([1, 1, 2, 3, 4])"
   ]
  },
  {
   "cell_type": "code",
   "execution_count": 3,
   "id": "cccd72f8-3c4a-41f4-a912-c84e4cdc348f",
   "metadata": {},
   "outputs": [
    {
     "data": {
      "text/plain": [
       "tensor([ 1,  1,  8, 15, 24], dtype=torch.int32)"
      ]
     },
     "execution_count": 3,
     "metadata": {},
     "output_type": "execute_result"
    }
   ],
   "source": [
    "b = torch.IntTensor([1, 1, 4, 5, 6])\n",
    "a * b"
   ]
  },
  {
   "cell_type": "code",
   "execution_count": 4,
   "id": "44e7a980-4b0f-4f5c-89ae-3d2ec28c9ebe",
   "metadata": {},
   "outputs": [
    {
     "data": {
      "text/plain": [
       "tensor(49, dtype=torch.int32)"
      ]
     },
     "execution_count": 4,
     "metadata": {},
     "output_type": "execute_result"
    }
   ],
   "source": [
    "torch.dot(a, b)"
   ]
  },
  {
   "cell_type": "code",
   "execution_count": 5,
   "id": "3d829213-64e7-435f-9514-4b63b88be194",
   "metadata": {},
   "outputs": [
    {
     "data": {
      "text/plain": [
       "tensor([[0.1934, 0.5731, 0.0477, 0.2508],\n",
       "        [0.0904, 0.2679, 0.0223, 0.1172],\n",
       "        [0.0871, 0.2581, 0.0215, 0.1130],\n",
       "        [0.1268, 0.3757, 0.0313, 0.1644]])"
      ]
     },
     "execution_count": 5,
     "metadata": {},
     "output_type": "execute_result"
    }
   ],
   "source": [
    "a = torch.rand((1, 4))\n",
    "b = torch.rand((4, 1))\n",
    "a*b"
   ]
  },
  {
   "cell_type": "code",
   "execution_count": 6,
   "id": "38c8c21e-a56a-4830-8e18-310401da8d28",
   "metadata": {},
   "outputs": [
    {
     "data": {
      "text/plain": [
       "torch.Size([1, 4])"
      ]
     },
     "execution_count": 6,
     "metadata": {},
     "output_type": "execute_result"
    }
   ],
   "source": [
    "a.shape"
   ]
  },
  {
   "cell_type": "code",
   "execution_count": 7,
   "id": "11b65afb-47b5-4a78-85a6-6b4efd0e7735",
   "metadata": {},
   "outputs": [
    {
     "data": {
      "text/plain": [
       "torch.Size([1, 1, 4])"
      ]
     },
     "execution_count": 7,
     "metadata": {},
     "output_type": "execute_result"
    }
   ],
   "source": [
    "a[None, :].shape"
   ]
  },
  {
   "cell_type": "code",
   "execution_count": 8,
   "id": "8727c401-b4af-4126-bda5-2f20d091669b",
   "metadata": {},
   "outputs": [
    {
     "data": {
      "text/plain": [
       "torch.Size([4, 1])"
      ]
     },
     "execution_count": 8,
     "metadata": {},
     "output_type": "execute_result"
    }
   ],
   "source": [
    "a.view(-1, 1).shape"
   ]
  },
  {
   "cell_type": "code",
   "execution_count": null,
   "id": "94eb68ac-91a2-4720-8a70-f667b7190f1a",
   "metadata": {},
   "outputs": [],
   "source": []
  },
  {
   "cell_type": "code",
   "execution_count": 9,
   "id": "9efe68be-cb68-4d3f-8bd5-f6759cc4293d",
   "metadata": {},
   "outputs": [],
   "source": [
    "import pandas as pd"
   ]
  },
  {
   "cell_type": "code",
   "execution_count": 10,
   "id": "67a8610f-2a4d-4163-a7d2-367ce74d8b97",
   "metadata": {},
   "outputs": [
    {
     "data": {
      "text/html": [
       "<div>\n",
       "<style scoped>\n",
       "    .dataframe tbody tr th:only-of-type {\n",
       "        vertical-align: middle;\n",
       "    }\n",
       "\n",
       "    .dataframe tbody tr th {\n",
       "        vertical-align: top;\n",
       "    }\n",
       "\n",
       "    .dataframe thead th {\n",
       "        text-align: right;\n",
       "    }\n",
       "</style>\n",
       "<table border=\"1\" class=\"dataframe\">\n",
       "  <thead>\n",
       "    <tr style=\"text-align: right;\">\n",
       "      <th></th>\n",
       "      <th>Sepal_Length</th>\n",
       "      <th>Sepal_Width</th>\n",
       "      <th>Petal_Length</th>\n",
       "      <th>Petal_Width</th>\n",
       "      <th>Class</th>\n",
       "    </tr>\n",
       "  </thead>\n",
       "  <tbody>\n",
       "    <tr>\n",
       "      <th>0</th>\n",
       "      <td>5.1</td>\n",
       "      <td>3.5</td>\n",
       "      <td>1.4</td>\n",
       "      <td>0.2</td>\n",
       "      <td>Iris-setosa</td>\n",
       "    </tr>\n",
       "    <tr>\n",
       "      <th>1</th>\n",
       "      <td>4.9</td>\n",
       "      <td>3.0</td>\n",
       "      <td>1.4</td>\n",
       "      <td>0.2</td>\n",
       "      <td>Iris-setosa</td>\n",
       "    </tr>\n",
       "    <tr>\n",
       "      <th>2</th>\n",
       "      <td>4.7</td>\n",
       "      <td>3.2</td>\n",
       "      <td>1.3</td>\n",
       "      <td>0.2</td>\n",
       "      <td>Iris-setosa</td>\n",
       "    </tr>\n",
       "    <tr>\n",
       "      <th>3</th>\n",
       "      <td>4.6</td>\n",
       "      <td>3.1</td>\n",
       "      <td>1.5</td>\n",
       "      <td>0.2</td>\n",
       "      <td>Iris-setosa</td>\n",
       "    </tr>\n",
       "    <tr>\n",
       "      <th>4</th>\n",
       "      <td>5.0</td>\n",
       "      <td>3.6</td>\n",
       "      <td>1.4</td>\n",
       "      <td>0.2</td>\n",
       "      <td>Iris-setosa</td>\n",
       "    </tr>\n",
       "  </tbody>\n",
       "</table>\n",
       "</div>"
      ],
      "text/plain": [
       "   Sepal_Length  Sepal_Width  Petal_Length  Petal_Width        Class\n",
       "0           5.1          3.5           1.4          0.2  Iris-setosa\n",
       "1           4.9          3.0           1.4          0.2  Iris-setosa\n",
       "2           4.7          3.2           1.3          0.2  Iris-setosa\n",
       "3           4.6          3.1           1.5          0.2  Iris-setosa\n",
       "4           5.0          3.6           1.4          0.2  Iris-setosa"
      ]
     },
     "execution_count": 10,
     "metadata": {},
     "output_type": "execute_result"
    }
   ],
   "source": [
    "df = pd.read_csv(\"iris.data\", names=['Sepal_Length', 'Sepal_Width', 'Petal_Length', 'Petal_Width', 'Class'])\n",
    "df.head()"
   ]
  },
  {
   "cell_type": "code",
   "execution_count": 11,
   "id": "2371c790-0bca-4b2b-8189-00932565ae78",
   "metadata": {},
   "outputs": [
    {
     "data": {
      "text/plain": [
       "tensor([4.9000, 3.0000, 1.4000, 0.2000])"
      ]
     },
     "execution_count": 11,
     "metadata": {},
     "output_type": "execute_result"
    }
   ],
   "source": [
    "torch.Tensor(df.loc[1][:-1].to_numpy().astype(\"float32\"))"
   ]
  },
  {
   "cell_type": "code",
   "execution_count": 12,
   "id": "188677dd-32a8-4148-98d1-56a4179669a9",
   "metadata": {},
   "outputs": [],
   "source": [
    "#one_hoter = {'Iris-setosa': [[1], [0], [0]], \"Iris-virginica\": [[0], [0], [1]], \"Iris-versicolor\": [[0], [1], [0]]}\n",
    "one_hoter = {'Iris-setosa': [1, 0, 0], \"Iris-virginica\": [0, 0, 1], \"Iris-versicolor\": [0, 1, 0]}"
   ]
  },
  {
   "cell_type": "code",
   "execution_count": 13,
   "id": "741f4e04-c441-4dae-92af-0ba8c6ebeb0d",
   "metadata": {},
   "outputs": [],
   "source": [
    "from torch.utils.data import Dataset, DataLoader"
   ]
  },
  {
   "cell_type": "code",
   "execution_count": 14,
   "id": "0bc16062-17bb-41dc-9396-6b6cbbb86f3b",
   "metadata": {},
   "outputs": [],
   "source": [
    "class IrisDataset(Dataset):\n",
    "    def __init__(self, dataframe: pd.DataFrame):\n",
    "        self.df = dataframe\n",
    "    \n",
    "    def __len__(self):\n",
    "        return self.df.shape[0]\n",
    "    \n",
    "    def __getitem__(self, ind):\n",
    "        raw = self.df.loc[ind].to_numpy()\n",
    "        target = raw[-1]\n",
    "        target = torch.Tensor(one_hoter[target])\n",
    "        samples = torch.Tensor(raw[:-1].astype(\"float32\"))\n",
    "        return samples, target"
   ]
  },
  {
   "cell_type": "code",
   "execution_count": 15,
   "id": "cd63de2d-a90f-4176-97dc-4a8ad31c4df2",
   "metadata": {
    "tags": []
   },
   "outputs": [],
   "source": [
    "class Net(nn.Module):\n",
    "    def __init__(self):\n",
    "        super(Net, self).__init__()\n",
    "        self.linear1 = nn.Linear(4, 32)\n",
    "        self.f_act = nn.ReLU()\n",
    "        self.linear2 = nn.Linear(32, 3)\n",
    "        self.softmax = nn.Softmax(dim=1)\n",
    "    \n",
    "    def forward(self, X):\n",
    "        #norm = self.norm(X)\n",
    "        res = self.linear1(X)\n",
    "        res = self.f_act(res)\n",
    "        res = self.linear2(res)\n",
    "        res = self.softmax(res)\n",
    "        return res"
   ]
  },
  {
   "cell_type": "code",
   "execution_count": 21,
   "id": "04449536-e77c-41ab-b45c-50dffa0580c2",
   "metadata": {},
   "outputs": [
    {
     "name": "stdout",
     "output_type": "stream",
     "text": [
      "=================================================================\n",
      "Layer (type:depth-idx)                   Param #\n",
      "=================================================================\n",
      "├─Linear: 1-1                            160\n",
      "├─ReLU: 1-2                              --\n",
      "├─Linear: 1-3                            99\n",
      "├─Softmax: 1-4                           --\n",
      "=================================================================\n",
      "Total params: 259\n",
      "Trainable params: 259\n",
      "Non-trainable params: 0\n",
      "=================================================================\n"
     ]
    },
    {
     "data": {
      "text/plain": [
       "=================================================================\n",
       "Layer (type:depth-idx)                   Param #\n",
       "=================================================================\n",
       "├─Linear: 1-1                            160\n",
       "├─ReLU: 1-2                              --\n",
       "├─Linear: 1-3                            99\n",
       "├─Softmax: 1-4                           --\n",
       "=================================================================\n",
       "Total params: 259\n",
       "Trainable params: 259\n",
       "Non-trainable params: 0\n",
       "================================================================="
      ]
     },
     "execution_count": 21,
     "metadata": {},
     "output_type": "execute_result"
    }
   ],
   "source": [
    "from torchsummary import summary\n",
    "summary(Net())"
   ]
  },
  {
   "cell_type": "code",
   "execution_count": null,
   "id": "46887ef2-bec4-49fd-a0e2-b5e548b05416",
   "metadata": {},
   "outputs": [],
   "source": []
  },
  {
   "cell_type": "code",
   "execution_count": 17,
   "id": "d946d52f-b15c-4d94-abd5-d63c40b1c2c5",
   "metadata": {},
   "outputs": [],
   "source": [
    "def train_one_epoch(epoch, trainloader, optimizer, model, criterion, dataset):\n",
    "    correct = 0\n",
    "    epoch_loss = 0.0\n",
    "    for i, data in enumerate(trainloader, 0):\n",
    "        x, y = data\n",
    "        optimizer.zero_grad()\n",
    "        outputs = model(x)\n",
    "        loss = criterion(outputs, y)\n",
    "        loss.backward()\n",
    "        epoch_loss += outputs.shape[0] * loss.item()\n",
    "        optimizer.step()\n",
    "        outputs = (outputs > 0.5).float()\n",
    "        correct += (outputs == y).float().sum()\n",
    "    print(\n",
    "        f'TRAIN [{epoch + 1}] loss: {epoch_loss / dataset.__len__():.3f}')"
   ]
  },
  {
   "cell_type": "code",
   "execution_count": 18,
   "id": "d11f63e3-1662-4ff6-a023-fe55a06b0b03",
   "metadata": {},
   "outputs": [],
   "source": [
    "dataset = IrisDataset(df)\n",
    "trainloader = DataLoader(dataset, batch_size=32,  shuffle=True)\n",
    "net = Net()\n",
    "optimizer = torch.optim.RMSprop(params=net.parameters())\n",
    "loss = nn.CrossEntropyLoss()"
   ]
  },
  {
   "cell_type": "code",
   "execution_count": 19,
   "id": "ba4572df-2b4a-4308-ae15-f385912fa693",
   "metadata": {},
   "outputs": [
    {
     "name": "stdout",
     "output_type": "stream",
     "text": [
      "TRAIN [1] loss: 1.044\n",
      "TRAIN [2] loss: 0.893\n",
      "TRAIN [3] loss: 0.808\n",
      "TRAIN [4] loss: 0.762\n",
      "TRAIN [5] loss: 0.752\n",
      "TRAIN [6] loss: 0.729\n",
      "TRAIN [7] loss: 0.718\n",
      "TRAIN [8] loss: 0.700\n",
      "TRAIN [9] loss: 0.673\n",
      "TRAIN [10] loss: 0.661\n",
      "TRAIN [11] loss: 0.702\n",
      "TRAIN [12] loss: 0.644\n",
      "TRAIN [13] loss: 0.650\n",
      "TRAIN [14] loss: 0.674\n",
      "TRAIN [15] loss: 0.615\n",
      "TRAIN [16] loss: 0.641\n",
      "TRAIN [17] loss: 0.624\n",
      "TRAIN [18] loss: 0.619\n",
      "TRAIN [19] loss: 0.617\n",
      "TRAIN [20] loss: 0.614\n"
     ]
    }
   ],
   "source": [
    "for epoch in range(20):\n",
    "    train_one_epoch(epoch, trainloader, optimizer, net, loss, dataset)"
   ]
  },
  {
   "cell_type": "code",
   "execution_count": 20,
   "id": "f8c89431-8fc0-4449-833a-e5fff08771be",
   "metadata": {},
   "outputs": [
    {
     "data": {
      "text/plain": [
       "tensor([[9.9290e-01, 7.0958e-03, 1.4098e-09]], grad_fn=<SoftmaxBackward0>)"
      ]
     },
     "execution_count": 20,
     "metadata": {},
     "output_type": "execute_result"
    }
   ],
   "source": [
    "net(torch.Tensor(df.loc[1][:-1].to_numpy().astype(\"float32\"))[None, :])"
   ]
  },
  {
   "cell_type": "code",
   "execution_count": 24,
   "id": "43433758-2052-4601-8304-3754b6d19753",
   "metadata": {},
   "outputs": [
    {
     "data": {
      "text/plain": [
       "Net(\n",
       "  (linear1): Linear(in_features=4, out_features=32, bias=True)\n",
       "  (f_act): ReLU()\n",
       "  (linear2): Linear(in_features=32, out_features=3, bias=True)\n",
       "  (softmax): Softmax(dim=1)\n",
       ")"
      ]
     },
     "execution_count": 24,
     "metadata": {},
     "output_type": "execute_result"
    }
   ],
   "source": [
    "net.eval()"
   ]
  },
  {
   "cell_type": "code",
   "execution_count": null,
   "id": "86c523ff-c268-4391-b184-240026c34c8c",
   "metadata": {},
   "outputs": [],
   "source": [
    "net(data)"
   ]
  }
 ],
 "metadata": {
  "kernelspec": {
   "display_name": "Python 3 (ipykernel)",
   "language": "python",
   "name": "python3"
  },
  "language_info": {
   "codemirror_mode": {
    "name": "ipython",
    "version": 3
   },
   "file_extension": ".py",
   "mimetype": "text/x-python",
   "name": "python",
   "nbconvert_exporter": "python",
   "pygments_lexer": "ipython3",
   "version": "3.10.5"
  }
 },
 "nbformat": 4,
 "nbformat_minor": 5
}
